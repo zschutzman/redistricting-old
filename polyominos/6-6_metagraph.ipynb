{
 "cells": [
  {
   "cell_type": "code",
   "execution_count": 1,
   "metadata": {},
   "outputs": [],
   "source": [
    "import collections\n",
    "import numpy as np\n",
    "import networkx as nx\n",
    "import random\n",
    "import copy\n",
    "from datetime import datetime\n",
    "from multiprocessing.dummy import Pool"
   ]
  },
  {
   "cell_type": "code",
   "execution_count": 2,
   "metadata": {},
   "outputs": [],
   "source": [
    "grid = nx.grid_graph(dim=[6,6])\n",
    "chunks = collections.defaultdict(set)\n",
    "\n",
    "chunks[0] = set([n for n in grid.nodes() if n[0]<3 and n[1]<2])\n",
    "chunks[1] = set([n for n in grid.nodes() if n[0]>=3 and n[1]<2])\n",
    "chunks[2] = set([n for n in grid.nodes() if n[0]<3 and 2<=n[1]<4])\n",
    "chunks[3] = set([n for n in grid.nodes() if n[0]>=3 and 2<=n[1]<4])\n",
    "chunks[4] = set([n for n in grid.nodes() if n[0]<3 and 4<=n[1]<6])\n",
    "chunks[5] = set([n for n in grid.nodes() if n[0]>=3 and 4<=n[1]<6])\n"
   ]
  },
  {
   "cell_type": "code",
   "execution_count": 3,
   "metadata": {},
   "outputs": [],
   "source": [
    "def validate_chunks(proposal):\n",
    "    global grid\n",
    "    for k,v in proposal.items():\n",
    "        if len(v)>7 or len(v)<5:\n",
    "            return False\n",
    "        if not nx.is_connected(grid.subgraph(v)): return False\n",
    "    return True"
   ]
  },
  {
   "cell_type": "code",
   "execution_count": 4,
   "metadata": {},
   "outputs": [],
   "source": [
    "def flip(curr):\n",
    "    legal = False\n",
    "    while not legal:\n",
    "        try:\n",
    "            loser = random.choice([c for c in curr.keys() if len(curr[c])==7])\n",
    "        except:\n",
    "            loser = random.choice([c for c in curr.keys()])\n",
    "        cands = []\n",
    "        \n",
    "        for v in curr[loser]:\n",
    "            if set(grid.neighbors(v)).issubset(curr[loser]):\n",
    "                continue\n",
    "            cands.append(v)\n",
    "\n",
    "        try:\n",
    "            fp = random.choice(cands)\n",
    "        except:\n",
    "            return False\n",
    "        tar = random.choice([nbr for nbr in grid.neighbors(fp) if nbr not in curr[loser]])\n",
    "\n",
    "        prop = copy.deepcopy(curr)\n",
    "        for k,v in prop.items():\n",
    "            if fp in v:\n",
    "                v.remove(fp)\n",
    "            if tar in v:\n",
    "                v.add(fp)\n",
    "        legal = validate_chunks(prop)\n",
    "    return prop\n",
    "    "
   ]
  },
  {
   "cell_type": "code",
   "execution_count": null,
   "metadata": {},
   "outputs": [],
   "source": []
  },
  {
   "cell_type": "code",
   "execution_count": 5,
   "metadata": {},
   "outputs": [
    {
     "name": "stdout",
     "output_type": "stream",
     "text": [
      "0:01:14.302306\n",
      "73030\n"
     ]
    }
   ],
   "source": [
    "tic = datetime.now()\n",
    "partitions = set()\n",
    "for i in range(100000):\n",
    "    chunks = flip(chunks)\n",
    "    \n",
    "    partitions.add(frozenset([frozenset(v) for v in chunks.values()]))\n",
    "print(datetime.now()-tic)\n",
    "print(len(partitions))"
   ]
  },
  {
   "cell_type": "code",
   "execution_count": 6,
   "metadata": {},
   "outputs": [
    {
     "name": "stdout",
     "output_type": "stream",
     "text": [
      "0:00:26.472662\n",
      "4269\n"
     ]
    }
   ],
   "source": [
    "tic = datetime.now()\n",
    "partitions2 = set()\n",
    "for i in range(40000):\n",
    "    chunks = flip(chunks)\n",
    "    if 5 not in [len(v) for v in chunks.values()]:\n",
    "        partitions2.add(frozenset([frozenset(v) for v in chunks.values()]))\n",
    "print(datetime.now()-tic)\n",
    "print(len(partitions2))"
   ]
  },
  {
   "cell_type": "code",
   "execution_count": 7,
   "metadata": {},
   "outputs": [],
   "source": [
    "def do_loop(i):\n",
    "    global chunks\n",
    "    lch = copy.deepcopy(chunks)\n",
    "    partitions2 = set()\n",
    "    for i in range(10000):\n",
    "        lch = flip(lch)\n",
    "        if 5 not in [len(v) for v in lch.values()]:\n",
    "            partitions2.add(frozenset([frozenset(v) for v in lch.values()]))\n",
    "    return partitions2"
   ]
  },
  {
   "cell_type": "code",
   "execution_count": null,
   "metadata": {},
   "outputs": [],
   "source": [
    "pool = Pool(4)\n",
    "tic = datetime.now()\n",
    "results = pool.map(do_loop, range(100))\n",
    "partitions = set()\n",
    "for a in results:\n",
    "    partitions = partitions.union(a)\n",
    "print(datetime.now()-tic)\n",
    "print(len(partitions))"
   ]
  },
  {
   "cell_type": "code",
   "execution_count": 102,
   "metadata": {},
   "outputs": [
    {
     "ename": "IndexError",
     "evalue": "Cannot choose from an empty sequence",
     "output_type": "error",
     "traceback": [
      "\u001b[0;31m---------------------------------------------------------------------------\u001b[0m",
      "\u001b[0;31mIndexError\u001b[0m                                Traceback (most recent call last)",
      "\u001b[0;32m<ipython-input-102-cb948f70534b>\u001b[0m in \u001b[0;36m<module>\u001b[0;34m()\u001b[0m\n\u001b[0;32m----> 1\u001b[0;31m \u001b[0mprint\u001b[0m\u001b[0;34m(\u001b[0m\u001b[0mrandom\u001b[0m\u001b[0;34m.\u001b[0m\u001b[0mchoice\u001b[0m\u001b[0;34m(\u001b[0m\u001b[0;34m[\u001b[0m\u001b[0;34m]\u001b[0m\u001b[0;34m)\u001b[0m\u001b[0;34m)\u001b[0m\u001b[0;34m\u001b[0m\u001b[0m\n\u001b[0m",
      "\u001b[0;32m~/miniconda3/envs/vrdi/lib/python3.6/random.py\u001b[0m in \u001b[0;36mchoice\u001b[0;34m(self, seq)\u001b[0m\n\u001b[1;32m    256\u001b[0m             \u001b[0mi\u001b[0m \u001b[0;34m=\u001b[0m \u001b[0mself\u001b[0m\u001b[0;34m.\u001b[0m\u001b[0m_randbelow\u001b[0m\u001b[0;34m(\u001b[0m\u001b[0mlen\u001b[0m\u001b[0;34m(\u001b[0m\u001b[0mseq\u001b[0m\u001b[0;34m)\u001b[0m\u001b[0;34m)\u001b[0m\u001b[0;34m\u001b[0m\u001b[0m\n\u001b[1;32m    257\u001b[0m         \u001b[0;32mexcept\u001b[0m \u001b[0mValueError\u001b[0m\u001b[0;34m:\u001b[0m\u001b[0;34m\u001b[0m\u001b[0m\n\u001b[0;32m--> 258\u001b[0;31m             \u001b[0;32mraise\u001b[0m \u001b[0mIndexError\u001b[0m\u001b[0;34m(\u001b[0m\u001b[0;34m'Cannot choose from an empty sequence'\u001b[0m\u001b[0;34m)\u001b[0m \u001b[0;32mfrom\u001b[0m \u001b[0;32mNone\u001b[0m\u001b[0;34m\u001b[0m\u001b[0m\n\u001b[0m\u001b[1;32m    259\u001b[0m         \u001b[0;32mreturn\u001b[0m \u001b[0mseq\u001b[0m\u001b[0;34m[\u001b[0m\u001b[0mi\u001b[0m\u001b[0;34m]\u001b[0m\u001b[0;34m\u001b[0m\u001b[0m\n\u001b[1;32m    260\u001b[0m \u001b[0;34m\u001b[0m\u001b[0m\n",
      "\u001b[0;31mIndexError\u001b[0m: Cannot choose from an empty sequence"
     ]
    }
   ],
   "source": [
    "print(random.choice([]))"
   ]
  }
 ],
 "metadata": {
  "kernelspec": {
   "display_name": "Python 3",
   "language": "python",
   "name": "python3"
  },
  "language_info": {
   "codemirror_mode": {
    "name": "ipython",
    "version": 3
   },
   "file_extension": ".py",
   "mimetype": "text/x-python",
   "name": "python",
   "nbconvert_exporter": "python",
   "pygments_lexer": "ipython3",
   "version": "3.6.5"
  }
 },
 "nbformat": 4,
 "nbformat_minor": 2
}
